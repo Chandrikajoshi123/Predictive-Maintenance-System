{
 "cells": [
  {
   "cell_type": "code",
   "execution_count": 2,
   "id": "438f0fb9",
   "metadata": {},
   "outputs": [],
   "source": [
    "import pandas as pd\n",
    "import numpy as np\n"
   ]
  },
  {
   "cell_type": "code",
   "execution_count": null,
   "id": "875b4565",
   "metadata": {},
   "outputs": [],
   "source": [
    "#'/Users/chandrikajoshi/Downloads/CMaps'\n"
   ]
  }
 ],
 "metadata": {
  "kernelspec": {
   "display_name": "rr-env",
   "language": "python",
   "name": "python3"
  },
  "language_info": {
   "codemirror_mode": {
    "name": "ipython",
    "version": 3
   },
   "file_extension": ".py",
   "mimetype": "text/x-python",
   "name": "python",
   "nbconvert_exporter": "python",
   "pygments_lexer": "ipython3",
   "version": "3.10.18"
  }
 },
 "nbformat": 4,
 "nbformat_minor": 5
}
